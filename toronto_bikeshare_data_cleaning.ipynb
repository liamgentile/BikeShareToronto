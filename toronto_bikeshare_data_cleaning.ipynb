{
 "cells": [
  {
   "cell_type": "markdown",
   "id": "3e40ccd5",
   "metadata": {},
   "source": [
    "First, I'll import the necessary packages..."
   ]
  },
  {
   "cell_type": "code",
   "execution_count": null,
   "id": "2e50e749",
   "metadata": {},
   "outputs": [],
   "source": [
    "import pandas as pd\n",
    "import numpy as np"
   ]
  },
  {
   "cell_type": "markdown",
   "id": "991a1df2",
   "metadata": {},
   "source": [
    "Now I'll import the DataFrames..."
   ]
  },
  {
   "cell_type": "code",
   "execution_count": null,
   "id": "864dd623",
   "metadata": {},
   "outputs": [],
   "source": [
    "df_2017 = pd.read_csv('Desktop/df_2017.csv')\n",
    "df_2018 = pd.read_csv('Desktop/df_2018.csv')\n",
    "df_2019 = pd.read_csv('Desktop/df_2019.csv')\n",
    "df_2020 = pd.read_csv('Desktop/df_2020.csv')"
   ]
  },
  {
   "cell_type": "markdown",
   "id": "82547f8d",
   "metadata": {},
   "source": [
    "# 2017 Data Cleaning"
   ]
  },
  {
   "cell_type": "markdown",
   "id": "67f49178",
   "metadata": {},
   "source": [
    "Let's take a look at the 2017 DataFrame."
   ]
  },
  {
   "cell_type": "code",
   "execution_count": 3,
   "id": "acb410c4",
   "metadata": {
    "scrolled": true
   },
   "outputs": [
    {
     "data": {
      "text/html": [
       "<div>\n",
       "<style scoped>\n",
       "    .dataframe tbody tr th:only-of-type {\n",
       "        vertical-align: middle;\n",
       "    }\n",
       "\n",
       "    .dataframe tbody tr th {\n",
       "        vertical-align: top;\n",
       "    }\n",
       "\n",
       "    .dataframe thead th {\n",
       "        text-align: right;\n",
       "    }\n",
       "</style>\n",
       "<table border=\"1\" class=\"dataframe\">\n",
       "  <thead>\n",
       "    <tr style=\"text-align: right;\">\n",
       "      <th></th>\n",
       "      <th>Unnamed: 0</th>\n",
       "      <th>trip_id</th>\n",
       "      <th>trip_start_time</th>\n",
       "      <th>trip_stop_time</th>\n",
       "      <th>trip_duration_seconds</th>\n",
       "      <th>from_station_id</th>\n",
       "      <th>from_station_name</th>\n",
       "      <th>to_station_id</th>\n",
       "      <th>to_station_name</th>\n",
       "      <th>user_type</th>\n",
       "    </tr>\n",
       "  </thead>\n",
       "  <tbody>\n",
       "    <tr>\n",
       "      <th>0</th>\n",
       "      <td>0</td>\n",
       "      <td>712382</td>\n",
       "      <td>1/1/2017 0:00</td>\n",
       "      <td>1/1/2017 0:03</td>\n",
       "      <td>223</td>\n",
       "      <td>7051.0</td>\n",
       "      <td>Wellesley St E / Yonge St Green P</td>\n",
       "      <td>7089.0</td>\n",
       "      <td>Church St  / Wood St</td>\n",
       "      <td>Member</td>\n",
       "    </tr>\n",
       "    <tr>\n",
       "      <th>1</th>\n",
       "      <td>1</td>\n",
       "      <td>712383</td>\n",
       "      <td>1/1/2017 0:00</td>\n",
       "      <td>1/1/2017 0:05</td>\n",
       "      <td>279</td>\n",
       "      <td>7143.0</td>\n",
       "      <td>Kendal Ave / Bernard Ave</td>\n",
       "      <td>7154.0</td>\n",
       "      <td>Bathurst Subway Station</td>\n",
       "      <td>Member</td>\n",
       "    </tr>\n",
       "    <tr>\n",
       "      <th>2</th>\n",
       "      <td>2</td>\n",
       "      <td>712384</td>\n",
       "      <td>1/1/2017 0:05</td>\n",
       "      <td>1/1/2017 0:29</td>\n",
       "      <td>1394</td>\n",
       "      <td>7113.0</td>\n",
       "      <td>Parliament St / Aberdeen Ave</td>\n",
       "      <td>7199.0</td>\n",
       "      <td>College St W / Markham St</td>\n",
       "      <td>Member</td>\n",
       "    </tr>\n",
       "    <tr>\n",
       "      <th>3</th>\n",
       "      <td>3</td>\n",
       "      <td>712385</td>\n",
       "      <td>1/1/2017 0:07</td>\n",
       "      <td>1/1/2017 0:21</td>\n",
       "      <td>826</td>\n",
       "      <td>7077.0</td>\n",
       "      <td>College Park South</td>\n",
       "      <td>7010.0</td>\n",
       "      <td>King St W / Spadina Ave</td>\n",
       "      <td>Member</td>\n",
       "    </tr>\n",
       "    <tr>\n",
       "      <th>4</th>\n",
       "      <td>4</td>\n",
       "      <td>712386</td>\n",
       "      <td>1/1/2017 0:08</td>\n",
       "      <td>1/1/2017 0:12</td>\n",
       "      <td>279</td>\n",
       "      <td>7079.0</td>\n",
       "      <td>McGill St / Church St</td>\n",
       "      <td>7047.0</td>\n",
       "      <td>University Ave / Gerrard St W</td>\n",
       "      <td>Member</td>\n",
       "    </tr>\n",
       "  </tbody>\n",
       "</table>\n",
       "</div>"
      ],
      "text/plain": [
       "   Unnamed: 0  trip_id trip_start_time trip_stop_time  trip_duration_seconds  \\\n",
       "0           0   712382   1/1/2017 0:00  1/1/2017 0:03                    223   \n",
       "1           1   712383   1/1/2017 0:00  1/1/2017 0:05                    279   \n",
       "2           2   712384   1/1/2017 0:05  1/1/2017 0:29                   1394   \n",
       "3           3   712385   1/1/2017 0:07  1/1/2017 0:21                    826   \n",
       "4           4   712386   1/1/2017 0:08  1/1/2017 0:12                    279   \n",
       "\n",
       "   from_station_id                  from_station_name  to_station_id  \\\n",
       "0           7051.0  Wellesley St E / Yonge St Green P         7089.0   \n",
       "1           7143.0           Kendal Ave / Bernard Ave         7154.0   \n",
       "2           7113.0       Parliament St / Aberdeen Ave         7199.0   \n",
       "3           7077.0                 College Park South         7010.0   \n",
       "4           7079.0              McGill St / Church St         7047.0   \n",
       "\n",
       "                 to_station_name user_type  \n",
       "0           Church St  / Wood St    Member  \n",
       "1        Bathurst Subway Station    Member  \n",
       "2      College St W / Markham St    Member  \n",
       "3        King St W / Spadina Ave    Member  \n",
       "4  University Ave / Gerrard St W    Member  "
      ]
     },
     "execution_count": 3,
     "metadata": {},
     "output_type": "execute_result"
    }
   ],
   "source": [
    "df_2017.head(5)"
   ]
  },
  {
   "cell_type": "markdown",
   "id": "0c51f086",
   "metadata": {},
   "source": [
    "I'll start by dropping the additional index column."
   ]
  },
  {
   "cell_type": "code",
   "execution_count": 4,
   "id": "51ecdbe6",
   "metadata": {},
   "outputs": [],
   "source": [
    "df_2017.drop('Unnamed: 0', axis=1, inplace=True)"
   ]
  },
  {
   "cell_type": "markdown",
   "id": "a868175f",
   "metadata": {},
   "source": [
    "Let's check out the datatypes.  "
   ]
  },
  {
   "cell_type": "code",
   "execution_count": 32,
   "id": "16db19ad",
   "metadata": {
    "scrolled": true
   },
   "outputs": [
    {
     "data": {
      "text/plain": [
       "trip_id                    int64\n",
       "trip_start_time           object\n",
       "trip_stop_time            object\n",
       "trip_duration_seconds      int64\n",
       "from_station_id          float64\n",
       "from_station_name         object\n",
       "to_station_id            float64\n",
       "to_station_name           object\n",
       "user_type                 object\n",
       "dtype: object"
      ]
     },
     "execution_count": 32,
     "metadata": {},
     "output_type": "execute_result"
    }
   ],
   "source": [
    "df_2017.dtypes"
   ]
  },
  {
   "cell_type": "markdown",
   "id": "bd88f67e",
   "metadata": {},
   "source": [
    "One thing I notice is that trip start and stop times are not in date time format. I'd also like to split the date and time into separate columns in case I want to work with one or the other separately in the future."
   ]
  },
  {
   "cell_type": "code",
   "execution_count": 36,
   "id": "5a417988",
   "metadata": {},
   "outputs": [],
   "source": [
    "df_2017['trip_start_time'] = pd.to_datetime(df_2017['trip_start_time'])\n",
    "df_2017['start_date'] = df_2017['trip_start_time'].dt.strftime('%d/%m/%Y')\n",
    "df_2017['start_time'] = df_2017['trip_start_time'].dt.strftime('%H:%M')"
   ]
  },
  {
   "cell_type": "code",
   "execution_count": 37,
   "id": "3314f74e",
   "metadata": {
    "scrolled": false
   },
   "outputs": [
    {
     "data": {
      "text/html": [
       "<div>\n",
       "<style scoped>\n",
       "    .dataframe tbody tr th:only-of-type {\n",
       "        vertical-align: middle;\n",
       "    }\n",
       "\n",
       "    .dataframe tbody tr th {\n",
       "        vertical-align: top;\n",
       "    }\n",
       "\n",
       "    .dataframe thead th {\n",
       "        text-align: right;\n",
       "    }\n",
       "</style>\n",
       "<table border=\"1\" class=\"dataframe\">\n",
       "  <thead>\n",
       "    <tr style=\"text-align: right;\">\n",
       "      <th></th>\n",
       "      <th>trip_id</th>\n",
       "      <th>trip_start_time</th>\n",
       "      <th>trip_stop_time</th>\n",
       "      <th>trip_duration_seconds</th>\n",
       "      <th>from_station_id</th>\n",
       "      <th>from_station_name</th>\n",
       "      <th>to_station_id</th>\n",
       "      <th>to_station_name</th>\n",
       "      <th>user_type</th>\n",
       "      <th>start_date</th>\n",
       "      <th>start_time</th>\n",
       "    </tr>\n",
       "  </thead>\n",
       "  <tbody>\n",
       "    <tr>\n",
       "      <th>0</th>\n",
       "      <td>712382</td>\n",
       "      <td>2017-01-01 00:00:00</td>\n",
       "      <td>1/1/2017 0:03</td>\n",
       "      <td>223</td>\n",
       "      <td>7051.0</td>\n",
       "      <td>Wellesley St E / Yonge St Green P</td>\n",
       "      <td>7089.0</td>\n",
       "      <td>Church St  / Wood St</td>\n",
       "      <td>Member</td>\n",
       "      <td>01/01/2017</td>\n",
       "      <td>00:00</td>\n",
       "    </tr>\n",
       "    <tr>\n",
       "      <th>1</th>\n",
       "      <td>712383</td>\n",
       "      <td>2017-01-01 00:00:00</td>\n",
       "      <td>1/1/2017 0:05</td>\n",
       "      <td>279</td>\n",
       "      <td>7143.0</td>\n",
       "      <td>Kendal Ave / Bernard Ave</td>\n",
       "      <td>7154.0</td>\n",
       "      <td>Bathurst Subway Station</td>\n",
       "      <td>Member</td>\n",
       "      <td>01/01/2017</td>\n",
       "      <td>00:00</td>\n",
       "    </tr>\n",
       "    <tr>\n",
       "      <th>2</th>\n",
       "      <td>712384</td>\n",
       "      <td>2017-01-01 00:05:00</td>\n",
       "      <td>1/1/2017 0:29</td>\n",
       "      <td>1394</td>\n",
       "      <td>7113.0</td>\n",
       "      <td>Parliament St / Aberdeen Ave</td>\n",
       "      <td>7199.0</td>\n",
       "      <td>College St W / Markham St</td>\n",
       "      <td>Member</td>\n",
       "      <td>01/01/2017</td>\n",
       "      <td>00:05</td>\n",
       "    </tr>\n",
       "    <tr>\n",
       "      <th>3</th>\n",
       "      <td>712385</td>\n",
       "      <td>2017-01-01 00:07:00</td>\n",
       "      <td>1/1/2017 0:21</td>\n",
       "      <td>826</td>\n",
       "      <td>7077.0</td>\n",
       "      <td>College Park South</td>\n",
       "      <td>7010.0</td>\n",
       "      <td>King St W / Spadina Ave</td>\n",
       "      <td>Member</td>\n",
       "      <td>01/01/2017</td>\n",
       "      <td>00:07</td>\n",
       "    </tr>\n",
       "    <tr>\n",
       "      <th>4</th>\n",
       "      <td>712386</td>\n",
       "      <td>2017-01-01 00:08:00</td>\n",
       "      <td>1/1/2017 0:12</td>\n",
       "      <td>279</td>\n",
       "      <td>7079.0</td>\n",
       "      <td>McGill St / Church St</td>\n",
       "      <td>7047.0</td>\n",
       "      <td>University Ave / Gerrard St W</td>\n",
       "      <td>Member</td>\n",
       "      <td>01/01/2017</td>\n",
       "      <td>00:08</td>\n",
       "    </tr>\n",
       "  </tbody>\n",
       "</table>\n",
       "</div>"
      ],
      "text/plain": [
       "   trip_id     trip_start_time trip_stop_time  trip_duration_seconds  \\\n",
       "0   712382 2017-01-01 00:00:00  1/1/2017 0:03                    223   \n",
       "1   712383 2017-01-01 00:00:00  1/1/2017 0:05                    279   \n",
       "2   712384 2017-01-01 00:05:00  1/1/2017 0:29                   1394   \n",
       "3   712385 2017-01-01 00:07:00  1/1/2017 0:21                    826   \n",
       "4   712386 2017-01-01 00:08:00  1/1/2017 0:12                    279   \n",
       "\n",
       "   from_station_id                  from_station_name  to_station_id  \\\n",
       "0           7051.0  Wellesley St E / Yonge St Green P         7089.0   \n",
       "1           7143.0           Kendal Ave / Bernard Ave         7154.0   \n",
       "2           7113.0       Parliament St / Aberdeen Ave         7199.0   \n",
       "3           7077.0                 College Park South         7010.0   \n",
       "4           7079.0              McGill St / Church St         7047.0   \n",
       "\n",
       "                 to_station_name user_type  start_date start_time  \n",
       "0           Church St  / Wood St    Member  01/01/2017      00:00  \n",
       "1        Bathurst Subway Station    Member  01/01/2017      00:00  \n",
       "2      College St W / Markham St    Member  01/01/2017      00:05  \n",
       "3        King St W / Spadina Ave    Member  01/01/2017      00:07  \n",
       "4  University Ave / Gerrard St W    Member  01/01/2017      00:08  "
      ]
     },
     "execution_count": 37,
     "metadata": {},
     "output_type": "execute_result"
    }
   ],
   "source": [
    "df_2017.head(5)"
   ]
  },
  {
   "cell_type": "code",
   "execution_count": 48,
   "id": "fe3a8f20",
   "metadata": {},
   "outputs": [
    {
     "data": {
      "text/plain": [
       "trip_id                           int64\n",
       "trip_start_time          datetime64[ns]\n",
       "trip_stop_time                   object\n",
       "trip_duration_seconds             int64\n",
       "from_station_id                 float64\n",
       "from_station_name                object\n",
       "to_station_id                   float64\n",
       "to_station_name                  object\n",
       "user_type                        object\n",
       "start_date                       object\n",
       "start_time                       object\n",
       "dtype: object"
      ]
     },
     "execution_count": 48,
     "metadata": {},
     "output_type": "execute_result"
    }
   ],
   "source": [
    "df_2017.dtypes"
   ]
  },
  {
   "cell_type": "markdown",
   "id": "1da19dbd",
   "metadata": {},
   "source": [
    "Now let's do the same for the trip stop time column..."
   ]
  },
  {
   "cell_type": "code",
   "execution_count": 53,
   "id": "af85c040",
   "metadata": {},
   "outputs": [],
   "source": [
    "df_2017['trip_stop_time'] = pd.to_datetime(df_2017['trip_stop_time'], errors='coerce')"
   ]
  },
  {
   "cell_type": "code",
   "execution_count": 54,
   "id": "55453266",
   "metadata": {},
   "outputs": [],
   "source": [
    "df_2017['stop_date'] = df_2017['trip_stop_time'].dt.strftime('%d/%m/%Y')\n",
    "df_2017['stop_time'] = df_2017['trip_stop_time'].dt.strftime('%H:%M')"
   ]
  },
  {
   "cell_type": "code",
   "execution_count": 55,
   "id": "2e3c07db",
   "metadata": {
    "scrolled": true
   },
   "outputs": [
    {
     "data": {
      "text/html": [
       "<div>\n",
       "<style scoped>\n",
       "    .dataframe tbody tr th:only-of-type {\n",
       "        vertical-align: middle;\n",
       "    }\n",
       "\n",
       "    .dataframe tbody tr th {\n",
       "        vertical-align: top;\n",
       "    }\n",
       "\n",
       "    .dataframe thead th {\n",
       "        text-align: right;\n",
       "    }\n",
       "</style>\n",
       "<table border=\"1\" class=\"dataframe\">\n",
       "  <thead>\n",
       "    <tr style=\"text-align: right;\">\n",
       "      <th></th>\n",
       "      <th>trip_id</th>\n",
       "      <th>trip_start_time</th>\n",
       "      <th>trip_stop_time</th>\n",
       "      <th>trip_duration_seconds</th>\n",
       "      <th>from_station_id</th>\n",
       "      <th>from_station_name</th>\n",
       "      <th>to_station_id</th>\n",
       "      <th>to_station_name</th>\n",
       "      <th>user_type</th>\n",
       "      <th>start_date</th>\n",
       "      <th>start_time</th>\n",
       "      <th>stop_date</th>\n",
       "      <th>stop_time</th>\n",
       "    </tr>\n",
       "  </thead>\n",
       "  <tbody>\n",
       "    <tr>\n",
       "      <th>0</th>\n",
       "      <td>712382</td>\n",
       "      <td>2017-01-01 00:00:00</td>\n",
       "      <td>2017-01-01 00:03:00</td>\n",
       "      <td>223</td>\n",
       "      <td>7051.0</td>\n",
       "      <td>Wellesley St E / Yonge St Green P</td>\n",
       "      <td>7089.0</td>\n",
       "      <td>Church St  / Wood St</td>\n",
       "      <td>Member</td>\n",
       "      <td>01/01/2017</td>\n",
       "      <td>00:00</td>\n",
       "      <td>01/01/2017</td>\n",
       "      <td>00:03</td>\n",
       "    </tr>\n",
       "    <tr>\n",
       "      <th>1</th>\n",
       "      <td>712383</td>\n",
       "      <td>2017-01-01 00:00:00</td>\n",
       "      <td>2017-01-01 00:05:00</td>\n",
       "      <td>279</td>\n",
       "      <td>7143.0</td>\n",
       "      <td>Kendal Ave / Bernard Ave</td>\n",
       "      <td>7154.0</td>\n",
       "      <td>Bathurst Subway Station</td>\n",
       "      <td>Member</td>\n",
       "      <td>01/01/2017</td>\n",
       "      <td>00:00</td>\n",
       "      <td>01/01/2017</td>\n",
       "      <td>00:05</td>\n",
       "    </tr>\n",
       "    <tr>\n",
       "      <th>2</th>\n",
       "      <td>712384</td>\n",
       "      <td>2017-01-01 00:05:00</td>\n",
       "      <td>2017-01-01 00:29:00</td>\n",
       "      <td>1394</td>\n",
       "      <td>7113.0</td>\n",
       "      <td>Parliament St / Aberdeen Ave</td>\n",
       "      <td>7199.0</td>\n",
       "      <td>College St W / Markham St</td>\n",
       "      <td>Member</td>\n",
       "      <td>01/01/2017</td>\n",
       "      <td>00:05</td>\n",
       "      <td>01/01/2017</td>\n",
       "      <td>00:29</td>\n",
       "    </tr>\n",
       "    <tr>\n",
       "      <th>3</th>\n",
       "      <td>712385</td>\n",
       "      <td>2017-01-01 00:07:00</td>\n",
       "      <td>2017-01-01 00:21:00</td>\n",
       "      <td>826</td>\n",
       "      <td>7077.0</td>\n",
       "      <td>College Park South</td>\n",
       "      <td>7010.0</td>\n",
       "      <td>King St W / Spadina Ave</td>\n",
       "      <td>Member</td>\n",
       "      <td>01/01/2017</td>\n",
       "      <td>00:07</td>\n",
       "      <td>01/01/2017</td>\n",
       "      <td>00:21</td>\n",
       "    </tr>\n",
       "    <tr>\n",
       "      <th>4</th>\n",
       "      <td>712386</td>\n",
       "      <td>2017-01-01 00:08:00</td>\n",
       "      <td>2017-01-01 00:12:00</td>\n",
       "      <td>279</td>\n",
       "      <td>7079.0</td>\n",
       "      <td>McGill St / Church St</td>\n",
       "      <td>7047.0</td>\n",
       "      <td>University Ave / Gerrard St W</td>\n",
       "      <td>Member</td>\n",
       "      <td>01/01/2017</td>\n",
       "      <td>00:08</td>\n",
       "      <td>01/01/2017</td>\n",
       "      <td>00:12</td>\n",
       "    </tr>\n",
       "  </tbody>\n",
       "</table>\n",
       "</div>"
      ],
      "text/plain": [
       "   trip_id     trip_start_time      trip_stop_time  trip_duration_seconds  \\\n",
       "0   712382 2017-01-01 00:00:00 2017-01-01 00:03:00                    223   \n",
       "1   712383 2017-01-01 00:00:00 2017-01-01 00:05:00                    279   \n",
       "2   712384 2017-01-01 00:05:00 2017-01-01 00:29:00                   1394   \n",
       "3   712385 2017-01-01 00:07:00 2017-01-01 00:21:00                    826   \n",
       "4   712386 2017-01-01 00:08:00 2017-01-01 00:12:00                    279   \n",
       "\n",
       "   from_station_id                  from_station_name  to_station_id  \\\n",
       "0           7051.0  Wellesley St E / Yonge St Green P         7089.0   \n",
       "1           7143.0           Kendal Ave / Bernard Ave         7154.0   \n",
       "2           7113.0       Parliament St / Aberdeen Ave         7199.0   \n",
       "3           7077.0                 College Park South         7010.0   \n",
       "4           7079.0              McGill St / Church St         7047.0   \n",
       "\n",
       "                 to_station_name user_type  start_date start_time   stop_date  \\\n",
       "0           Church St  / Wood St    Member  01/01/2017      00:00  01/01/2017   \n",
       "1        Bathurst Subway Station    Member  01/01/2017      00:00  01/01/2017   \n",
       "2      College St W / Markham St    Member  01/01/2017      00:05  01/01/2017   \n",
       "3        King St W / Spadina Ave    Member  01/01/2017      00:07  01/01/2017   \n",
       "4  University Ave / Gerrard St W    Member  01/01/2017      00:08  01/01/2017   \n",
       "\n",
       "  stop_time  \n",
       "0     00:03  \n",
       "1     00:05  \n",
       "2     00:29  \n",
       "3     00:21  \n",
       "4     00:12  "
      ]
     },
     "execution_count": 55,
     "metadata": {},
     "output_type": "execute_result"
    }
   ],
   "source": [
    "df_2017.head(5)"
   ]
  },
  {
   "cell_type": "markdown",
   "id": "d15ed7de",
   "metadata": {},
   "source": [
    "Looks good! Let's check out the null values by column."
   ]
  },
  {
   "cell_type": "code",
   "execution_count": 64,
   "id": "d16ed64b",
   "metadata": {},
   "outputs": [
    {
     "data": {
      "text/plain": [
       "trip_id                        0\n",
       "trip_start_time                0\n",
       "trip_stop_time                 1\n",
       "trip_duration_seconds          0\n",
       "from_station_id          1026893\n",
       "from_station_name              0\n",
       "to_station_id            1026893\n",
       "to_station_name                1\n",
       "user_type                      0\n",
       "start_date                     0\n",
       "start_time                     0\n",
       "stop_date                      1\n",
       "stop_time                      1\n",
       "dtype: int64"
      ]
     },
     "execution_count": 64,
     "metadata": {},
     "output_type": "execute_result"
    }
   ],
   "source": [
    "df_2017.isnull().sum()"
   ]
  },
  {
   "cell_type": "markdown",
   "id": "fb3c6ecb",
   "metadata": {},
   "source": [
    "I reckon we can drop the from_station_id and to_station_id columns since they're missing so many values and we already have the station names to identify the trips. For the rest of the missing values we can just drop those individual rows as there are very few missing."
   ]
  },
  {
   "cell_type": "code",
   "execution_count": 65,
   "id": "73b138ac",
   "metadata": {},
   "outputs": [],
   "source": [
    "df_2017.drop(['from_station_id', 'to_station_id'], axis=1, inplace=True)"
   ]
  },
  {
   "cell_type": "code",
   "execution_count": 66,
   "id": "c8d37f37",
   "metadata": {},
   "outputs": [
    {
     "data": {
      "text/plain": [
       "trip_id                  0\n",
       "trip_start_time          0\n",
       "trip_stop_time           1\n",
       "trip_duration_seconds    0\n",
       "from_station_name        0\n",
       "to_station_name          1\n",
       "user_type                0\n",
       "start_date               0\n",
       "start_time               0\n",
       "stop_date                1\n",
       "stop_time                1\n",
       "dtype: int64"
      ]
     },
     "execution_count": 66,
     "metadata": {},
     "output_type": "execute_result"
    }
   ],
   "source": [
    "df_2017.isnull().sum()"
   ]
  },
  {
   "cell_type": "code",
   "execution_count": 67,
   "id": "e1532271",
   "metadata": {},
   "outputs": [],
   "source": [
    "df_2017.dropna(how='any', axis=0, inplace=True)"
   ]
  },
  {
   "cell_type": "code",
   "execution_count": 68,
   "id": "49ee23e1",
   "metadata": {},
   "outputs": [
    {
     "data": {
      "text/plain": [
       "trip_id                  0\n",
       "trip_start_time          0\n",
       "trip_stop_time           0\n",
       "trip_duration_seconds    0\n",
       "from_station_name        0\n",
       "to_station_name          0\n",
       "user_type                0\n",
       "start_date               0\n",
       "start_time               0\n",
       "stop_date                0\n",
       "stop_time                0\n",
       "dtype: int64"
      ]
     },
     "execution_count": 68,
     "metadata": {},
     "output_type": "execute_result"
    }
   ],
   "source": [
    "df_2017.isnull().sum()"
   ]
  },
  {
   "cell_type": "code",
   "execution_count": 69,
   "id": "7d0da107",
   "metadata": {
    "scrolled": true
   },
   "outputs": [
    {
     "data": {
      "text/html": [
       "<div>\n",
       "<style scoped>\n",
       "    .dataframe tbody tr th:only-of-type {\n",
       "        vertical-align: middle;\n",
       "    }\n",
       "\n",
       "    .dataframe tbody tr th {\n",
       "        vertical-align: top;\n",
       "    }\n",
       "\n",
       "    .dataframe thead th {\n",
       "        text-align: right;\n",
       "    }\n",
       "</style>\n",
       "<table border=\"1\" class=\"dataframe\">\n",
       "  <thead>\n",
       "    <tr style=\"text-align: right;\">\n",
       "      <th></th>\n",
       "      <th>trip_id</th>\n",
       "      <th>trip_start_time</th>\n",
       "      <th>trip_stop_time</th>\n",
       "      <th>trip_duration_seconds</th>\n",
       "      <th>from_station_name</th>\n",
       "      <th>to_station_name</th>\n",
       "      <th>user_type</th>\n",
       "      <th>start_date</th>\n",
       "      <th>start_time</th>\n",
       "      <th>stop_date</th>\n",
       "      <th>stop_time</th>\n",
       "    </tr>\n",
       "  </thead>\n",
       "  <tbody>\n",
       "    <tr>\n",
       "      <th>0</th>\n",
       "      <td>712382</td>\n",
       "      <td>2017-01-01 00:00:00</td>\n",
       "      <td>2017-01-01 00:03:00</td>\n",
       "      <td>223</td>\n",
       "      <td>Wellesley St E / Yonge St Green P</td>\n",
       "      <td>Church St  / Wood St</td>\n",
       "      <td>Member</td>\n",
       "      <td>01/01/2017</td>\n",
       "      <td>00:00</td>\n",
       "      <td>01/01/2017</td>\n",
       "      <td>00:03</td>\n",
       "    </tr>\n",
       "    <tr>\n",
       "      <th>1</th>\n",
       "      <td>712383</td>\n",
       "      <td>2017-01-01 00:00:00</td>\n",
       "      <td>2017-01-01 00:05:00</td>\n",
       "      <td>279</td>\n",
       "      <td>Kendal Ave / Bernard Ave</td>\n",
       "      <td>Bathurst Subway Station</td>\n",
       "      <td>Member</td>\n",
       "      <td>01/01/2017</td>\n",
       "      <td>00:00</td>\n",
       "      <td>01/01/2017</td>\n",
       "      <td>00:05</td>\n",
       "    </tr>\n",
       "    <tr>\n",
       "      <th>2</th>\n",
       "      <td>712384</td>\n",
       "      <td>2017-01-01 00:05:00</td>\n",
       "      <td>2017-01-01 00:29:00</td>\n",
       "      <td>1394</td>\n",
       "      <td>Parliament St / Aberdeen Ave</td>\n",
       "      <td>College St W / Markham St</td>\n",
       "      <td>Member</td>\n",
       "      <td>01/01/2017</td>\n",
       "      <td>00:05</td>\n",
       "      <td>01/01/2017</td>\n",
       "      <td>00:29</td>\n",
       "    </tr>\n",
       "    <tr>\n",
       "      <th>3</th>\n",
       "      <td>712385</td>\n",
       "      <td>2017-01-01 00:07:00</td>\n",
       "      <td>2017-01-01 00:21:00</td>\n",
       "      <td>826</td>\n",
       "      <td>College Park South</td>\n",
       "      <td>King St W / Spadina Ave</td>\n",
       "      <td>Member</td>\n",
       "      <td>01/01/2017</td>\n",
       "      <td>00:07</td>\n",
       "      <td>01/01/2017</td>\n",
       "      <td>00:21</td>\n",
       "    </tr>\n",
       "    <tr>\n",
       "      <th>4</th>\n",
       "      <td>712386</td>\n",
       "      <td>2017-01-01 00:08:00</td>\n",
       "      <td>2017-01-01 00:12:00</td>\n",
       "      <td>279</td>\n",
       "      <td>McGill St / Church St</td>\n",
       "      <td>University Ave / Gerrard St W</td>\n",
       "      <td>Member</td>\n",
       "      <td>01/01/2017</td>\n",
       "      <td>00:08</td>\n",
       "      <td>01/01/2017</td>\n",
       "      <td>00:12</td>\n",
       "    </tr>\n",
       "  </tbody>\n",
       "</table>\n",
       "</div>"
      ],
      "text/plain": [
       "   trip_id     trip_start_time      trip_stop_time  trip_duration_seconds  \\\n",
       "0   712382 2017-01-01 00:00:00 2017-01-01 00:03:00                    223   \n",
       "1   712383 2017-01-01 00:00:00 2017-01-01 00:05:00                    279   \n",
       "2   712384 2017-01-01 00:05:00 2017-01-01 00:29:00                   1394   \n",
       "3   712385 2017-01-01 00:07:00 2017-01-01 00:21:00                    826   \n",
       "4   712386 2017-01-01 00:08:00 2017-01-01 00:12:00                    279   \n",
       "\n",
       "                   from_station_name                to_station_name user_type  \\\n",
       "0  Wellesley St E / Yonge St Green P           Church St  / Wood St    Member   \n",
       "1           Kendal Ave / Bernard Ave        Bathurst Subway Station    Member   \n",
       "2       Parliament St / Aberdeen Ave      College St W / Markham St    Member   \n",
       "3                 College Park South        King St W / Spadina Ave    Member   \n",
       "4              McGill St / Church St  University Ave / Gerrard St W    Member   \n",
       "\n",
       "   start_date start_time   stop_date stop_time  \n",
       "0  01/01/2017      00:00  01/01/2017     00:03  \n",
       "1  01/01/2017      00:00  01/01/2017     00:05  \n",
       "2  01/01/2017      00:05  01/01/2017     00:29  \n",
       "3  01/01/2017      00:07  01/01/2017     00:21  \n",
       "4  01/01/2017      00:08  01/01/2017     00:12  "
      ]
     },
     "execution_count": 69,
     "metadata": {},
     "output_type": "execute_result"
    }
   ],
   "source": [
    "df_2017.head(5)"
   ]
  },
  {
   "cell_type": "markdown",
   "id": "90ea9811",
   "metadata": {},
   "source": [
    "Everything looks good! Now I'll save the cleaned DataFrame to csv."
   ]
  },
  {
   "cell_type": "code",
   "execution_count": 70,
   "id": "f74529ea",
   "metadata": {},
   "outputs": [],
   "source": [
    "df_2017.to_csv('Desktop/to_bikeshare_project/df_2017.csv')"
   ]
  },
  {
   "cell_type": "markdown",
   "id": "785070a6",
   "metadata": {},
   "source": [
    "---------------------"
   ]
  },
  {
   "cell_type": "markdown",
   "id": "21df60df",
   "metadata": {},
   "source": [
    "# 2018 Data Cleaning"
   ]
  },
  {
   "cell_type": "code",
   "execution_count": 71,
   "id": "509dedb4",
   "metadata": {
    "scrolled": true
   },
   "outputs": [
    {
     "data": {
      "text/html": [
       "<div>\n",
       "<style scoped>\n",
       "    .dataframe tbody tr th:only-of-type {\n",
       "        vertical-align: middle;\n",
       "    }\n",
       "\n",
       "    .dataframe tbody tr th {\n",
       "        vertical-align: top;\n",
       "    }\n",
       "\n",
       "    .dataframe thead th {\n",
       "        text-align: right;\n",
       "    }\n",
       "</style>\n",
       "<table border=\"1\" class=\"dataframe\">\n",
       "  <thead>\n",
       "    <tr style=\"text-align: right;\">\n",
       "      <th></th>\n",
       "      <th>Unnamed: 0</th>\n",
       "      <th>trip_id</th>\n",
       "      <th>trip_duration_seconds</th>\n",
       "      <th>from_station_id</th>\n",
       "      <th>trip_start_time</th>\n",
       "      <th>from_station_name</th>\n",
       "      <th>trip_stop_time</th>\n",
       "      <th>to_station_id</th>\n",
       "      <th>to_station_name</th>\n",
       "      <th>user_type</th>\n",
       "    </tr>\n",
       "  </thead>\n",
       "  <tbody>\n",
       "    <tr>\n",
       "      <th>0</th>\n",
       "      <td>0</td>\n",
       "      <td>2383648</td>\n",
       "      <td>393</td>\n",
       "      <td>7018</td>\n",
       "      <td>1/1/2018 0:47</td>\n",
       "      <td>Bremner Blvd / Rees St</td>\n",
       "      <td>1/1/2018 0:54</td>\n",
       "      <td>7176</td>\n",
       "      <td>Bathurst St / Fort York Blvd</td>\n",
       "      <td>Annual Member</td>\n",
       "    </tr>\n",
       "    <tr>\n",
       "      <th>1</th>\n",
       "      <td>1</td>\n",
       "      <td>2383649</td>\n",
       "      <td>625</td>\n",
       "      <td>7184</td>\n",
       "      <td>1/1/2018 0:52</td>\n",
       "      <td>Ossington Ave / College St</td>\n",
       "      <td>1/1/2018 1:03</td>\n",
       "      <td>7191</td>\n",
       "      <td>Central Tech  (Harbord St)</td>\n",
       "      <td>Annual Member</td>\n",
       "    </tr>\n",
       "    <tr>\n",
       "      <th>2</th>\n",
       "      <td>2</td>\n",
       "      <td>2383650</td>\n",
       "      <td>233</td>\n",
       "      <td>7235</td>\n",
       "      <td>1/1/2018 0:55</td>\n",
       "      <td>Bay St / College St (West Side) - SMART</td>\n",
       "      <td>1/1/2018 0:59</td>\n",
       "      <td>7021</td>\n",
       "      <td>Bay St / Albert St</td>\n",
       "      <td>Annual Member</td>\n",
       "    </tr>\n",
       "    <tr>\n",
       "      <th>3</th>\n",
       "      <td>3</td>\n",
       "      <td>2383651</td>\n",
       "      <td>1138</td>\n",
       "      <td>7202</td>\n",
       "      <td>1/1/2018 0:57</td>\n",
       "      <td>Queen St W / York St (City Hall)</td>\n",
       "      <td>1/1/2018 1:16</td>\n",
       "      <td>7020</td>\n",
       "      <td>Phoebe St / Spadina Ave</td>\n",
       "      <td>Annual Member</td>\n",
       "    </tr>\n",
       "    <tr>\n",
       "      <th>4</th>\n",
       "      <td>4</td>\n",
       "      <td>2383652</td>\n",
       "      <td>703</td>\n",
       "      <td>7004</td>\n",
       "      <td>1/1/2018 1:00</td>\n",
       "      <td>University Ave / Elm St</td>\n",
       "      <td>1/1/2018 1:12</td>\n",
       "      <td>7060</td>\n",
       "      <td>Princess St / Adelaide St E</td>\n",
       "      <td>Annual Member</td>\n",
       "    </tr>\n",
       "  </tbody>\n",
       "</table>\n",
       "</div>"
      ],
      "text/plain": [
       "   Unnamed: 0  trip_id  trip_duration_seconds  from_station_id  \\\n",
       "0           0  2383648                    393             7018   \n",
       "1           1  2383649                    625             7184   \n",
       "2           2  2383650                    233             7235   \n",
       "3           3  2383651                   1138             7202   \n",
       "4           4  2383652                    703             7004   \n",
       "\n",
       "  trip_start_time                        from_station_name trip_stop_time  \\\n",
       "0   1/1/2018 0:47                   Bremner Blvd / Rees St  1/1/2018 0:54   \n",
       "1   1/1/2018 0:52               Ossington Ave / College St  1/1/2018 1:03   \n",
       "2   1/1/2018 0:55  Bay St / College St (West Side) - SMART  1/1/2018 0:59   \n",
       "3   1/1/2018 0:57         Queen St W / York St (City Hall)  1/1/2018 1:16   \n",
       "4   1/1/2018 1:00                  University Ave / Elm St  1/1/2018 1:12   \n",
       "\n",
       "   to_station_id               to_station_name      user_type  \n",
       "0           7176  Bathurst St / Fort York Blvd  Annual Member  \n",
       "1           7191    Central Tech  (Harbord St)  Annual Member  \n",
       "2           7021            Bay St / Albert St  Annual Member  \n",
       "3           7020       Phoebe St / Spadina Ave  Annual Member  \n",
       "4           7060   Princess St / Adelaide St E  Annual Member  "
      ]
     },
     "execution_count": 71,
     "metadata": {},
     "output_type": "execute_result"
    }
   ],
   "source": [
    "df_2018.head(5)"
   ]
  },
  {
   "cell_type": "markdown",
   "id": "23fc101c",
   "metadata": {},
   "source": [
    "I'll start by dropping the additional index column..."
   ]
  },
  {
   "cell_type": "code",
   "execution_count": 72,
   "id": "85037459",
   "metadata": {},
   "outputs": [],
   "source": [
    "df_2018.drop('Unnamed: 0', axis=1, inplace=True)"
   ]
  },
  {
   "cell_type": "markdown",
   "id": "7523e9d0",
   "metadata": {},
   "source": [
    "Let's check out the dtypes..."
   ]
  },
  {
   "cell_type": "code",
   "execution_count": 74,
   "id": "e4c532d4",
   "metadata": {},
   "outputs": [
    {
     "data": {
      "text/plain": [
       "trip_id                   int64\n",
       "trip_duration_seconds     int64\n",
       "from_station_id           int64\n",
       "trip_start_time          object\n",
       "from_station_name        object\n",
       "trip_stop_time           object\n",
       "to_station_id             int64\n",
       "to_station_name          object\n",
       "user_type                object\n",
       "dtype: object"
      ]
     },
     "execution_count": 74,
     "metadata": {},
     "output_type": "execute_result"
    }
   ],
   "source": [
    "df_2018.dtypes"
   ]
  },
  {
   "cell_type": "markdown",
   "id": "f0ef946e",
   "metadata": {},
   "source": [
    "Again, the dtypes are fine other than the start and stop times. I'll do the same process as I did for the 2017 DataFrame."
   ]
  },
  {
   "cell_type": "code",
   "execution_count": 75,
   "id": "24146031",
   "metadata": {},
   "outputs": [],
   "source": [
    "df_2018['trip_start_time'] = pd.to_datetime(df_2018['trip_start_time'])\n",
    "df_2018['start_date'] = df_2018['trip_start_time'].dt.strftime('%d/%m/%Y')\n",
    "df_2018['start_time'] = df_2018['trip_start_time'].dt.strftime('%H:%M')"
   ]
  },
  {
   "cell_type": "code",
   "execution_count": 76,
   "id": "4053d926",
   "metadata": {},
   "outputs": [],
   "source": [
    "df_2018['trip_stop_time'] = pd.to_datetime(df_2018['trip_stop_time'])\n",
    "df_2018['stop_date'] = df_2018['trip_stop_time'].dt.strftime('%d/%m/%Y')\n",
    "df_2018['stop_time'] = df_2018['trip_stop_time'].dt.strftime('%H:%M')"
   ]
  },
  {
   "cell_type": "code",
   "execution_count": 77,
   "id": "0644644f",
   "metadata": {},
   "outputs": [
    {
     "data": {
      "text/html": [
       "<div>\n",
       "<style scoped>\n",
       "    .dataframe tbody tr th:only-of-type {\n",
       "        vertical-align: middle;\n",
       "    }\n",
       "\n",
       "    .dataframe tbody tr th {\n",
       "        vertical-align: top;\n",
       "    }\n",
       "\n",
       "    .dataframe thead th {\n",
       "        text-align: right;\n",
       "    }\n",
       "</style>\n",
       "<table border=\"1\" class=\"dataframe\">\n",
       "  <thead>\n",
       "    <tr style=\"text-align: right;\">\n",
       "      <th></th>\n",
       "      <th>trip_id</th>\n",
       "      <th>trip_duration_seconds</th>\n",
       "      <th>from_station_id</th>\n",
       "      <th>trip_start_time</th>\n",
       "      <th>from_station_name</th>\n",
       "      <th>trip_stop_time</th>\n",
       "      <th>to_station_id</th>\n",
       "      <th>to_station_name</th>\n",
       "      <th>user_type</th>\n",
       "      <th>start_date</th>\n",
       "      <th>start_time</th>\n",
       "      <th>stop_date</th>\n",
       "      <th>stop_time</th>\n",
       "    </tr>\n",
       "  </thead>\n",
       "  <tbody>\n",
       "    <tr>\n",
       "      <th>0</th>\n",
       "      <td>2383648</td>\n",
       "      <td>393</td>\n",
       "      <td>7018</td>\n",
       "      <td>2018-01-01 00:47:00</td>\n",
       "      <td>Bremner Blvd / Rees St</td>\n",
       "      <td>2018-01-01 00:54:00</td>\n",
       "      <td>7176</td>\n",
       "      <td>Bathurst St / Fort York Blvd</td>\n",
       "      <td>Annual Member</td>\n",
       "      <td>01/01/2018</td>\n",
       "      <td>00:47</td>\n",
       "      <td>01/01/2018</td>\n",
       "      <td>00:54</td>\n",
       "    </tr>\n",
       "    <tr>\n",
       "      <th>1</th>\n",
       "      <td>2383649</td>\n",
       "      <td>625</td>\n",
       "      <td>7184</td>\n",
       "      <td>2018-01-01 00:52:00</td>\n",
       "      <td>Ossington Ave / College St</td>\n",
       "      <td>2018-01-01 01:03:00</td>\n",
       "      <td>7191</td>\n",
       "      <td>Central Tech  (Harbord St)</td>\n",
       "      <td>Annual Member</td>\n",
       "      <td>01/01/2018</td>\n",
       "      <td>00:52</td>\n",
       "      <td>01/01/2018</td>\n",
       "      <td>01:03</td>\n",
       "    </tr>\n",
       "    <tr>\n",
       "      <th>2</th>\n",
       "      <td>2383650</td>\n",
       "      <td>233</td>\n",
       "      <td>7235</td>\n",
       "      <td>2018-01-01 00:55:00</td>\n",
       "      <td>Bay St / College St (West Side) - SMART</td>\n",
       "      <td>2018-01-01 00:59:00</td>\n",
       "      <td>7021</td>\n",
       "      <td>Bay St / Albert St</td>\n",
       "      <td>Annual Member</td>\n",
       "      <td>01/01/2018</td>\n",
       "      <td>00:55</td>\n",
       "      <td>01/01/2018</td>\n",
       "      <td>00:59</td>\n",
       "    </tr>\n",
       "    <tr>\n",
       "      <th>3</th>\n",
       "      <td>2383651</td>\n",
       "      <td>1138</td>\n",
       "      <td>7202</td>\n",
       "      <td>2018-01-01 00:57:00</td>\n",
       "      <td>Queen St W / York St (City Hall)</td>\n",
       "      <td>2018-01-01 01:16:00</td>\n",
       "      <td>7020</td>\n",
       "      <td>Phoebe St / Spadina Ave</td>\n",
       "      <td>Annual Member</td>\n",
       "      <td>01/01/2018</td>\n",
       "      <td>00:57</td>\n",
       "      <td>01/01/2018</td>\n",
       "      <td>01:16</td>\n",
       "    </tr>\n",
       "    <tr>\n",
       "      <th>4</th>\n",
       "      <td>2383652</td>\n",
       "      <td>703</td>\n",
       "      <td>7004</td>\n",
       "      <td>2018-01-01 01:00:00</td>\n",
       "      <td>University Ave / Elm St</td>\n",
       "      <td>2018-01-01 01:12:00</td>\n",
       "      <td>7060</td>\n",
       "      <td>Princess St / Adelaide St E</td>\n",
       "      <td>Annual Member</td>\n",
       "      <td>01/01/2018</td>\n",
       "      <td>01:00</td>\n",
       "      <td>01/01/2018</td>\n",
       "      <td>01:12</td>\n",
       "    </tr>\n",
       "  </tbody>\n",
       "</table>\n",
       "</div>"
      ],
      "text/plain": [
       "   trip_id  trip_duration_seconds  from_station_id     trip_start_time  \\\n",
       "0  2383648                    393             7018 2018-01-01 00:47:00   \n",
       "1  2383649                    625             7184 2018-01-01 00:52:00   \n",
       "2  2383650                    233             7235 2018-01-01 00:55:00   \n",
       "3  2383651                   1138             7202 2018-01-01 00:57:00   \n",
       "4  2383652                    703             7004 2018-01-01 01:00:00   \n",
       "\n",
       "                         from_station_name      trip_stop_time  to_station_id  \\\n",
       "0                   Bremner Blvd / Rees St 2018-01-01 00:54:00           7176   \n",
       "1               Ossington Ave / College St 2018-01-01 01:03:00           7191   \n",
       "2  Bay St / College St (West Side) - SMART 2018-01-01 00:59:00           7021   \n",
       "3         Queen St W / York St (City Hall) 2018-01-01 01:16:00           7020   \n",
       "4                  University Ave / Elm St 2018-01-01 01:12:00           7060   \n",
       "\n",
       "                to_station_name      user_type  start_date start_time  \\\n",
       "0  Bathurst St / Fort York Blvd  Annual Member  01/01/2018      00:47   \n",
       "1    Central Tech  (Harbord St)  Annual Member  01/01/2018      00:52   \n",
       "2            Bay St / Albert St  Annual Member  01/01/2018      00:55   \n",
       "3       Phoebe St / Spadina Ave  Annual Member  01/01/2018      00:57   \n",
       "4   Princess St / Adelaide St E  Annual Member  01/01/2018      01:00   \n",
       "\n",
       "    stop_date stop_time  \n",
       "0  01/01/2018     00:54  \n",
       "1  01/01/2018     01:03  \n",
       "2  01/01/2018     00:59  \n",
       "3  01/01/2018     01:16  \n",
       "4  01/01/2018     01:12  "
      ]
     },
     "execution_count": 77,
     "metadata": {},
     "output_type": "execute_result"
    }
   ],
   "source": [
    "df_2018.head(5)"
   ]
  },
  {
   "cell_type": "markdown",
   "id": "acc60a37",
   "metadata": {},
   "source": [
    "Looks good! Let's check for null values...."
   ]
  },
  {
   "cell_type": "code",
   "execution_count": 79,
   "id": "662881c1",
   "metadata": {
    "scrolled": true
   },
   "outputs": [
    {
     "data": {
      "text/plain": [
       "trip_id                  0\n",
       "trip_duration_seconds    0\n",
       "from_station_id          0\n",
       "trip_start_time          0\n",
       "from_station_name        0\n",
       "trip_stop_time           0\n",
       "to_station_id            0\n",
       "to_station_name          0\n",
       "user_type                0\n",
       "start_date               0\n",
       "start_time               0\n",
       "stop_date                0\n",
       "stop_time                0\n",
       "dtype: int64"
      ]
     },
     "execution_count": 79,
     "metadata": {},
     "output_type": "execute_result"
    }
   ],
   "source": [
    "df_2018.isnull().sum()"
   ]
  },
  {
   "cell_type": "markdown",
   "id": "4065f7d4",
   "metadata": {},
   "source": [
    "Great! No null values in the 2018 DataFrame."
   ]
  },
  {
   "cell_type": "markdown",
   "id": "5d85d096",
   "metadata": {},
   "source": [
    "Now I'll save the cleaned DataFrame to csv..."
   ]
  },
  {
   "cell_type": "code",
   "execution_count": 89,
   "id": "10ee5379",
   "metadata": {},
   "outputs": [],
   "source": [
    "df_2018.to_csv('Desktop/to_bikeshare_project/df_2018.csv')"
   ]
  },
  {
   "cell_type": "markdown",
   "id": "6fa8e551",
   "metadata": {},
   "source": [
    "------------"
   ]
  },
  {
   "cell_type": "markdown",
   "id": "1d3b73db",
   "metadata": {},
   "source": [
    "# 2019 Data Cleaning"
   ]
  },
  {
   "cell_type": "code",
   "execution_count": 80,
   "id": "0ba7905c",
   "metadata": {
    "scrolled": true
   },
   "outputs": [
    {
     "data": {
      "text/html": [
       "<div>\n",
       "<style scoped>\n",
       "    .dataframe tbody tr th:only-of-type {\n",
       "        vertical-align: middle;\n",
       "    }\n",
       "\n",
       "    .dataframe tbody tr th {\n",
       "        vertical-align: top;\n",
       "    }\n",
       "\n",
       "    .dataframe thead th {\n",
       "        text-align: right;\n",
       "    }\n",
       "</style>\n",
       "<table border=\"1\" class=\"dataframe\">\n",
       "  <thead>\n",
       "    <tr style=\"text-align: right;\">\n",
       "      <th></th>\n",
       "      <th>Unnamed: 0</th>\n",
       "      <th>Trip Id</th>\n",
       "      <th>Trip  Duration</th>\n",
       "      <th>Start Station Id</th>\n",
       "      <th>Start Time</th>\n",
       "      <th>Start Station Name</th>\n",
       "      <th>End Station Id</th>\n",
       "      <th>End Time</th>\n",
       "      <th>End Station Name</th>\n",
       "      <th>Bike Id</th>\n",
       "      <th>User Type</th>\n",
       "    </tr>\n",
       "  </thead>\n",
       "  <tbody>\n",
       "    <tr>\n",
       "      <th>0</th>\n",
       "      <td>0</td>\n",
       "      <td>4581278</td>\n",
       "      <td>1547.0</td>\n",
       "      <td>7021</td>\n",
       "      <td>01/01/2019 00:08</td>\n",
       "      <td>Bay St / Albert St</td>\n",
       "      <td>7233.0</td>\n",
       "      <td>01/01/2019 00:33</td>\n",
       "      <td>King / Cowan Ave - SMART</td>\n",
       "      <td>1296</td>\n",
       "      <td>Annual Member</td>\n",
       "    </tr>\n",
       "    <tr>\n",
       "      <th>1</th>\n",
       "      <td>1</td>\n",
       "      <td>4581279</td>\n",
       "      <td>1112.0</td>\n",
       "      <td>7160</td>\n",
       "      <td>01/01/2019 00:10</td>\n",
       "      <td>King St W / Tecumseth St</td>\n",
       "      <td>7051.0</td>\n",
       "      <td>01/01/2019 00:29</td>\n",
       "      <td>Wellesley St E / Yonge St (Green P)</td>\n",
       "      <td>2947</td>\n",
       "      <td>Annual Member</td>\n",
       "    </tr>\n",
       "    <tr>\n",
       "      <th>2</th>\n",
       "      <td>2</td>\n",
       "      <td>4581280</td>\n",
       "      <td>589.0</td>\n",
       "      <td>7055</td>\n",
       "      <td>01/01/2019 00:15</td>\n",
       "      <td>Jarvis St / Carlton St</td>\n",
       "      <td>7013.0</td>\n",
       "      <td>01/01/2019 00:25</td>\n",
       "      <td>Scott St / The Esplanade</td>\n",
       "      <td>2293</td>\n",
       "      <td>Annual Member</td>\n",
       "    </tr>\n",
       "    <tr>\n",
       "      <th>3</th>\n",
       "      <td>3</td>\n",
       "      <td>4581281</td>\n",
       "      <td>259.0</td>\n",
       "      <td>7012</td>\n",
       "      <td>01/01/2019 00:16</td>\n",
       "      <td>Elizabeth St / Edward St (Bus Terminal)</td>\n",
       "      <td>7235.0</td>\n",
       "      <td>01/01/2019 00:20</td>\n",
       "      <td>Bay St / College St (West Side) - SMART</td>\n",
       "      <td>283</td>\n",
       "      <td>Annual Member</td>\n",
       "    </tr>\n",
       "    <tr>\n",
       "      <th>4</th>\n",
       "      <td>4</td>\n",
       "      <td>4581282</td>\n",
       "      <td>281.0</td>\n",
       "      <td>7041</td>\n",
       "      <td>01/01/2019 00:19</td>\n",
       "      <td>Edward St / Yonge St</td>\n",
       "      <td>7257.0</td>\n",
       "      <td>01/01/2019 00:24</td>\n",
       "      <td>Dundas St W / St. Patrick St</td>\n",
       "      <td>1799</td>\n",
       "      <td>Annual Member</td>\n",
       "    </tr>\n",
       "  </tbody>\n",
       "</table>\n",
       "</div>"
      ],
      "text/plain": [
       "   Unnamed: 0  Trip Id  Trip  Duration  Start Station Id        Start Time  \\\n",
       "0           0  4581278          1547.0              7021  01/01/2019 00:08   \n",
       "1           1  4581279          1112.0              7160  01/01/2019 00:10   \n",
       "2           2  4581280           589.0              7055  01/01/2019 00:15   \n",
       "3           3  4581281           259.0              7012  01/01/2019 00:16   \n",
       "4           4  4581282           281.0              7041  01/01/2019 00:19   \n",
       "\n",
       "                        Start Station Name  End Station Id          End Time  \\\n",
       "0                       Bay St / Albert St          7233.0  01/01/2019 00:33   \n",
       "1                 King St W / Tecumseth St          7051.0  01/01/2019 00:29   \n",
       "2                   Jarvis St / Carlton St          7013.0  01/01/2019 00:25   \n",
       "3  Elizabeth St / Edward St (Bus Terminal)          7235.0  01/01/2019 00:20   \n",
       "4                     Edward St / Yonge St          7257.0  01/01/2019 00:24   \n",
       "\n",
       "                          End Station Name  Bike Id      User Type  \n",
       "0                 King / Cowan Ave - SMART     1296  Annual Member  \n",
       "1      Wellesley St E / Yonge St (Green P)     2947  Annual Member  \n",
       "2                 Scott St / The Esplanade     2293  Annual Member  \n",
       "3  Bay St / College St (West Side) - SMART      283  Annual Member  \n",
       "4             Dundas St W / St. Patrick St     1799  Annual Member  "
      ]
     },
     "execution_count": 80,
     "metadata": {},
     "output_type": "execute_result"
    }
   ],
   "source": [
    "df_2019.head(5)"
   ]
  },
  {
   "cell_type": "markdown",
   "id": "ca4c9b58",
   "metadata": {},
   "source": [
    "Dropping the extra index column..."
   ]
  },
  {
   "cell_type": "code",
   "execution_count": 81,
   "id": "9edf41e0",
   "metadata": {},
   "outputs": [],
   "source": [
    "df_2019.drop('Unnamed: 0', axis=1, inplace=True)"
   ]
  },
  {
   "cell_type": "markdown",
   "id": "615a1a57",
   "metadata": {},
   "source": [
    "Checking the data types..."
   ]
  },
  {
   "cell_type": "code",
   "execution_count": 82,
   "id": "821db224",
   "metadata": {},
   "outputs": [
    {
     "data": {
      "text/plain": [
       "Trip Id                 int64\n",
       "Trip  Duration        float64\n",
       "Start Station Id        int64\n",
       "Start Time             object\n",
       "Start Station Name     object\n",
       "End Station Id        float64\n",
       "End Time               object\n",
       "End Station Name       object\n",
       "Bike Id                 int64\n",
       "User Type              object\n",
       "dtype: object"
      ]
     },
     "execution_count": 82,
     "metadata": {},
     "output_type": "execute_result"
    }
   ],
   "source": [
    "df_2019.dtypes"
   ]
  },
  {
   "cell_type": "markdown",
   "id": "f26605a5",
   "metadata": {},
   "source": [
    "Datatypes are fine other than the start and end times again. I'll do the same process as with the previous DataFrames...."
   ]
  },
  {
   "cell_type": "code",
   "execution_count": 83,
   "id": "e08c3ee9",
   "metadata": {},
   "outputs": [],
   "source": [
    "df_2019['Start Time'] = pd.to_datetime(df_2019['Start Time'])\n",
    "df_2019['start_date'] = df_2019['Start Time'].dt.strftime('%d/%m/%Y')\n",
    "df_2019['start_time'] = df_2019['Start Time'].dt.strftime('%H:%M')"
   ]
  },
  {
   "cell_type": "code",
   "execution_count": 84,
   "id": "fb7f4357",
   "metadata": {},
   "outputs": [],
   "source": [
    "df_2019['End Time'] = pd.to_datetime(df_2019['End Time'])\n",
    "df_2019['stop_date'] = df_2019['End Time'].dt.strftime('%d/%m/%Y')\n",
    "df_2019['stop_time'] = df_2019['End Time'].dt.strftime('%H:%M')"
   ]
  },
  {
   "cell_type": "code",
   "execution_count": 85,
   "id": "512b9774",
   "metadata": {
    "scrolled": true
   },
   "outputs": [
    {
     "data": {
      "text/html": [
       "<div>\n",
       "<style scoped>\n",
       "    .dataframe tbody tr th:only-of-type {\n",
       "        vertical-align: middle;\n",
       "    }\n",
       "\n",
       "    .dataframe tbody tr th {\n",
       "        vertical-align: top;\n",
       "    }\n",
       "\n",
       "    .dataframe thead th {\n",
       "        text-align: right;\n",
       "    }\n",
       "</style>\n",
       "<table border=\"1\" class=\"dataframe\">\n",
       "  <thead>\n",
       "    <tr style=\"text-align: right;\">\n",
       "      <th></th>\n",
       "      <th>Trip Id</th>\n",
       "      <th>Trip  Duration</th>\n",
       "      <th>Start Station Id</th>\n",
       "      <th>Start Time</th>\n",
       "      <th>Start Station Name</th>\n",
       "      <th>End Station Id</th>\n",
       "      <th>End Time</th>\n",
       "      <th>End Station Name</th>\n",
       "      <th>Bike Id</th>\n",
       "      <th>User Type</th>\n",
       "      <th>start_date</th>\n",
       "      <th>start_time</th>\n",
       "      <th>stop_date</th>\n",
       "      <th>stop_time</th>\n",
       "    </tr>\n",
       "  </thead>\n",
       "  <tbody>\n",
       "    <tr>\n",
       "      <th>0</th>\n",
       "      <td>4581278</td>\n",
       "      <td>1547.0</td>\n",
       "      <td>7021</td>\n",
       "      <td>2019-01-01 00:08:00</td>\n",
       "      <td>Bay St / Albert St</td>\n",
       "      <td>7233.0</td>\n",
       "      <td>2019-01-01 00:33:00</td>\n",
       "      <td>King / Cowan Ave - SMART</td>\n",
       "      <td>1296</td>\n",
       "      <td>Annual Member</td>\n",
       "      <td>01/01/2019</td>\n",
       "      <td>00:08</td>\n",
       "      <td>01/01/2019</td>\n",
       "      <td>00:33</td>\n",
       "    </tr>\n",
       "    <tr>\n",
       "      <th>1</th>\n",
       "      <td>4581279</td>\n",
       "      <td>1112.0</td>\n",
       "      <td>7160</td>\n",
       "      <td>2019-01-01 00:10:00</td>\n",
       "      <td>King St W / Tecumseth St</td>\n",
       "      <td>7051.0</td>\n",
       "      <td>2019-01-01 00:29:00</td>\n",
       "      <td>Wellesley St E / Yonge St (Green P)</td>\n",
       "      <td>2947</td>\n",
       "      <td>Annual Member</td>\n",
       "      <td>01/01/2019</td>\n",
       "      <td>00:10</td>\n",
       "      <td>01/01/2019</td>\n",
       "      <td>00:29</td>\n",
       "    </tr>\n",
       "    <tr>\n",
       "      <th>2</th>\n",
       "      <td>4581280</td>\n",
       "      <td>589.0</td>\n",
       "      <td>7055</td>\n",
       "      <td>2019-01-01 00:15:00</td>\n",
       "      <td>Jarvis St / Carlton St</td>\n",
       "      <td>7013.0</td>\n",
       "      <td>2019-01-01 00:25:00</td>\n",
       "      <td>Scott St / The Esplanade</td>\n",
       "      <td>2293</td>\n",
       "      <td>Annual Member</td>\n",
       "      <td>01/01/2019</td>\n",
       "      <td>00:15</td>\n",
       "      <td>01/01/2019</td>\n",
       "      <td>00:25</td>\n",
       "    </tr>\n",
       "    <tr>\n",
       "      <th>3</th>\n",
       "      <td>4581281</td>\n",
       "      <td>259.0</td>\n",
       "      <td>7012</td>\n",
       "      <td>2019-01-01 00:16:00</td>\n",
       "      <td>Elizabeth St / Edward St (Bus Terminal)</td>\n",
       "      <td>7235.0</td>\n",
       "      <td>2019-01-01 00:20:00</td>\n",
       "      <td>Bay St / College St (West Side) - SMART</td>\n",
       "      <td>283</td>\n",
       "      <td>Annual Member</td>\n",
       "      <td>01/01/2019</td>\n",
       "      <td>00:16</td>\n",
       "      <td>01/01/2019</td>\n",
       "      <td>00:20</td>\n",
       "    </tr>\n",
       "    <tr>\n",
       "      <th>4</th>\n",
       "      <td>4581282</td>\n",
       "      <td>281.0</td>\n",
       "      <td>7041</td>\n",
       "      <td>2019-01-01 00:19:00</td>\n",
       "      <td>Edward St / Yonge St</td>\n",
       "      <td>7257.0</td>\n",
       "      <td>2019-01-01 00:24:00</td>\n",
       "      <td>Dundas St W / St. Patrick St</td>\n",
       "      <td>1799</td>\n",
       "      <td>Annual Member</td>\n",
       "      <td>01/01/2019</td>\n",
       "      <td>00:19</td>\n",
       "      <td>01/01/2019</td>\n",
       "      <td>00:24</td>\n",
       "    </tr>\n",
       "  </tbody>\n",
       "</table>\n",
       "</div>"
      ],
      "text/plain": [
       "   Trip Id  Trip  Duration  Start Station Id          Start Time  \\\n",
       "0  4581278          1547.0              7021 2019-01-01 00:08:00   \n",
       "1  4581279          1112.0              7160 2019-01-01 00:10:00   \n",
       "2  4581280           589.0              7055 2019-01-01 00:15:00   \n",
       "3  4581281           259.0              7012 2019-01-01 00:16:00   \n",
       "4  4581282           281.0              7041 2019-01-01 00:19:00   \n",
       "\n",
       "                        Start Station Name  End Station Id  \\\n",
       "0                       Bay St / Albert St          7233.0   \n",
       "1                 King St W / Tecumseth St          7051.0   \n",
       "2                   Jarvis St / Carlton St          7013.0   \n",
       "3  Elizabeth St / Edward St (Bus Terminal)          7235.0   \n",
       "4                     Edward St / Yonge St          7257.0   \n",
       "\n",
       "             End Time                         End Station Name  Bike Id  \\\n",
       "0 2019-01-01 00:33:00                 King / Cowan Ave - SMART     1296   \n",
       "1 2019-01-01 00:29:00      Wellesley St E / Yonge St (Green P)     2947   \n",
       "2 2019-01-01 00:25:00                 Scott St / The Esplanade     2293   \n",
       "3 2019-01-01 00:20:00  Bay St / College St (West Side) - SMART      283   \n",
       "4 2019-01-01 00:24:00             Dundas St W / St. Patrick St     1799   \n",
       "\n",
       "       User Type  start_date start_time   stop_date stop_time  \n",
       "0  Annual Member  01/01/2019      00:08  01/01/2019     00:33  \n",
       "1  Annual Member  01/01/2019      00:10  01/01/2019     00:29  \n",
       "2  Annual Member  01/01/2019      00:15  01/01/2019     00:25  \n",
       "3  Annual Member  01/01/2019      00:16  01/01/2019     00:20  \n",
       "4  Annual Member  01/01/2019      00:19  01/01/2019     00:24  "
      ]
     },
     "execution_count": 85,
     "metadata": {},
     "output_type": "execute_result"
    }
   ],
   "source": [
    "df_2019.head(5)"
   ]
  },
  {
   "cell_type": "markdown",
   "id": "7590c14d",
   "metadata": {},
   "source": [
    "Looks good! Let's check for null values..."
   ]
  },
  {
   "cell_type": "code",
   "execution_count": 87,
   "id": "7526e115",
   "metadata": {
    "scrolled": true
   },
   "outputs": [
    {
     "data": {
      "text/plain": [
       "Trip Id                 0\n",
       "Trip  Duration         16\n",
       "Start Station Id        0\n",
       "Start Time              0\n",
       "Start Station Name      0\n",
       "End Station Id        454\n",
       "End Time                0\n",
       "End Station Name      454\n",
       "Bike Id                 0\n",
       "User Type               0\n",
       "start_date              0\n",
       "start_time              0\n",
       "stop_date               0\n",
       "stop_time               0\n",
       "dtype: int64"
      ]
     },
     "execution_count": 87,
     "metadata": {},
     "output_type": "execute_result"
    }
   ],
   "source": [
    "df_2019.isnull().sum()"
   ]
  },
  {
   "cell_type": "markdown",
   "id": "bc6ce790",
   "metadata": {},
   "source": [
    "Because we have several million rows in this dataset, I think I'll just go ahead and drop the rows with null values, since there are only a few hundred."
   ]
  },
  {
   "cell_type": "code",
   "execution_count": 88,
   "id": "7ab58f39",
   "metadata": {},
   "outputs": [],
   "source": [
    "df_2019.dropna(how='any', axis=0, inplace=True)"
   ]
  },
  {
   "cell_type": "code",
   "execution_count": 90,
   "id": "221d24ee",
   "metadata": {},
   "outputs": [
    {
     "data": {
      "text/plain": [
       "Trip Id               0\n",
       "Trip  Duration        0\n",
       "Start Station Id      0\n",
       "Start Time            0\n",
       "Start Station Name    0\n",
       "End Station Id        0\n",
       "End Time              0\n",
       "End Station Name      0\n",
       "Bike Id               0\n",
       "User Type             0\n",
       "start_date            0\n",
       "start_time            0\n",
       "stop_date             0\n",
       "stop_time             0\n",
       "dtype: int64"
      ]
     },
     "execution_count": 90,
     "metadata": {},
     "output_type": "execute_result"
    }
   ],
   "source": [
    "df_2019.isnull().sum()"
   ]
  },
  {
   "cell_type": "markdown",
   "id": "51626290",
   "metadata": {},
   "source": [
    "Great, now i'll save to csv..."
   ]
  },
  {
   "cell_type": "code",
   "execution_count": 91,
   "id": "cb334717",
   "metadata": {},
   "outputs": [],
   "source": [
    "df_2019.to_csv('Desktop/to_bikeshare_project/df_2019.csv')"
   ]
  },
  {
   "cell_type": "markdown",
   "id": "12bfd5ab",
   "metadata": {},
   "source": [
    "------"
   ]
  },
  {
   "cell_type": "markdown",
   "id": "28cc76d0",
   "metadata": {},
   "source": [
    "# 2020 Data Cleaning"
   ]
  },
  {
   "cell_type": "code",
   "execution_count": 92,
   "id": "cc7ac45a",
   "metadata": {
    "scrolled": true
   },
   "outputs": [
    {
     "data": {
      "text/html": [
       "<div>\n",
       "<style scoped>\n",
       "    .dataframe tbody tr th:only-of-type {\n",
       "        vertical-align: middle;\n",
       "    }\n",
       "\n",
       "    .dataframe tbody tr th {\n",
       "        vertical-align: top;\n",
       "    }\n",
       "\n",
       "    .dataframe thead th {\n",
       "        text-align: right;\n",
       "    }\n",
       "</style>\n",
       "<table border=\"1\" class=\"dataframe\">\n",
       "  <thead>\n",
       "    <tr style=\"text-align: right;\">\n",
       "      <th></th>\n",
       "      <th>Unnamed: 0</th>\n",
       "      <th>Trip Id</th>\n",
       "      <th>Trip  Duration</th>\n",
       "      <th>Start Station Id</th>\n",
       "      <th>Start Time</th>\n",
       "      <th>Start Station Name</th>\n",
       "      <th>End Station Id</th>\n",
       "      <th>End Time</th>\n",
       "      <th>End Station Name</th>\n",
       "      <th>Bike Id</th>\n",
       "      <th>User Type</th>\n",
       "    </tr>\n",
       "  </thead>\n",
       "  <tbody>\n",
       "    <tr>\n",
       "      <th>0</th>\n",
       "      <td>0</td>\n",
       "      <td>7334128</td>\n",
       "      <td>648</td>\n",
       "      <td>7003</td>\n",
       "      <td>01/01/2020 00:08</td>\n",
       "      <td>Madison Ave / Bloor St W</td>\n",
       "      <td>7271.0</td>\n",
       "      <td>01/01/2020 00:19</td>\n",
       "      <td>Yonge St / Alexander St - SMART</td>\n",
       "      <td>3104</td>\n",
       "      <td>Annual Member</td>\n",
       "    </tr>\n",
       "    <tr>\n",
       "      <th>1</th>\n",
       "      <td>1</td>\n",
       "      <td>7334129</td>\n",
       "      <td>419</td>\n",
       "      <td>7007</td>\n",
       "      <td>01/01/2020 00:10</td>\n",
       "      <td>College St / Huron St</td>\n",
       "      <td>7163.0</td>\n",
       "      <td>01/01/2020 00:17</td>\n",
       "      <td>Yonge St / Wood St</td>\n",
       "      <td>2126</td>\n",
       "      <td>Annual Member</td>\n",
       "    </tr>\n",
       "    <tr>\n",
       "      <th>2</th>\n",
       "      <td>2</td>\n",
       "      <td>7334130</td>\n",
       "      <td>566</td>\n",
       "      <td>7113</td>\n",
       "      <td>01/01/2020 00:13</td>\n",
       "      <td>Parliament St / Aberdeen Ave</td>\n",
       "      <td>7108.0</td>\n",
       "      <td>01/01/2020 00:22</td>\n",
       "      <td>Front St E / Cherry St</td>\n",
       "      <td>4425</td>\n",
       "      <td>Annual Member</td>\n",
       "    </tr>\n",
       "    <tr>\n",
       "      <th>3</th>\n",
       "      <td>3</td>\n",
       "      <td>7334131</td>\n",
       "      <td>1274</td>\n",
       "      <td>7333</td>\n",
       "      <td>01/01/2020 00:17</td>\n",
       "      <td>King St E / Victoria St</td>\n",
       "      <td>7311.0</td>\n",
       "      <td>01/01/2020 00:38</td>\n",
       "      <td>Sherbourne St / Isabella St</td>\n",
       "      <td>4233</td>\n",
       "      <td>Annual Member</td>\n",
       "    </tr>\n",
       "    <tr>\n",
       "      <th>4</th>\n",
       "      <td>4</td>\n",
       "      <td>7334132</td>\n",
       "      <td>906</td>\n",
       "      <td>7009</td>\n",
       "      <td>01/01/2020 00:19</td>\n",
       "      <td>King St E / Jarvis St</td>\n",
       "      <td>7004.0</td>\n",
       "      <td>01/01/2020 00:34</td>\n",
       "      <td>University Ave / Elm St</td>\n",
       "      <td>2341</td>\n",
       "      <td>Casual Member</td>\n",
       "    </tr>\n",
       "  </tbody>\n",
       "</table>\n",
       "</div>"
      ],
      "text/plain": [
       "   Unnamed: 0  Trip Id  Trip  Duration Start Station Id        Start Time  \\\n",
       "0           0  7334128             648             7003  01/01/2020 00:08   \n",
       "1           1  7334129             419             7007  01/01/2020 00:10   \n",
       "2           2  7334130             566             7113  01/01/2020 00:13   \n",
       "3           3  7334131            1274             7333  01/01/2020 00:17   \n",
       "4           4  7334132             906             7009  01/01/2020 00:19   \n",
       "\n",
       "             Start Station Name End Station Id          End Time  \\\n",
       "0      Madison Ave / Bloor St W         7271.0  01/01/2020 00:19   \n",
       "1         College St / Huron St         7163.0  01/01/2020 00:17   \n",
       "2  Parliament St / Aberdeen Ave         7108.0  01/01/2020 00:22   \n",
       "3       King St E / Victoria St         7311.0  01/01/2020 00:38   \n",
       "4         King St E / Jarvis St         7004.0  01/01/2020 00:34   \n",
       "\n",
       "                  End Station Name Bike Id      User Type  \n",
       "0  Yonge St / Alexander St - SMART    3104  Annual Member  \n",
       "1               Yonge St / Wood St    2126  Annual Member  \n",
       "2           Front St E / Cherry St    4425  Annual Member  \n",
       "3      Sherbourne St / Isabella St    4233  Annual Member  \n",
       "4          University Ave / Elm St    2341  Casual Member  "
      ]
     },
     "execution_count": 92,
     "metadata": {},
     "output_type": "execute_result"
    }
   ],
   "source": [
    "df_2020.head(5)"
   ]
  },
  {
   "cell_type": "markdown",
   "id": "813c72ad",
   "metadata": {},
   "source": [
    "Dropping the extra index column..."
   ]
  },
  {
   "cell_type": "code",
   "execution_count": 93,
   "id": "c0508996",
   "metadata": {},
   "outputs": [],
   "source": [
    "df_2020.drop('Unnamed: 0', axis=1, inplace=True)"
   ]
  },
  {
   "cell_type": "markdown",
   "id": "09c8a53f",
   "metadata": {},
   "source": [
    "Checking data types..."
   ]
  },
  {
   "cell_type": "code",
   "execution_count": 94,
   "id": "4090244f",
   "metadata": {},
   "outputs": [
    {
     "data": {
      "text/plain": [
       "Trip Id                int64\n",
       "Trip  Duration         int64\n",
       "Start Station Id      object\n",
       "Start Time            object\n",
       "Start Station Name    object\n",
       "End Station Id        object\n",
       "End Time              object\n",
       "End Station Name      object\n",
       "Bike Id               object\n",
       "User Type             object\n",
       "dtype: object"
      ]
     },
     "execution_count": 94,
     "metadata": {},
     "output_type": "execute_result"
    }
   ],
   "source": [
    "df_2020.dtypes"
   ]
  },
  {
   "cell_type": "markdown",
   "id": "6dd58379",
   "metadata": {},
   "source": [
    "We can see that in this DataFrame most of the columns are of the object dtype, which is fine for the most part. Just like with the previous columns I'll change the Start and End Times to datetime, and then split into separate columns for finer control if desired in the future."
   ]
  },
  {
   "cell_type": "code",
   "execution_count": 96,
   "id": "2af27266",
   "metadata": {},
   "outputs": [],
   "source": [
    "df_2020['Start Time'] = pd.to_datetime(df_2020['Start Time'], errors='coerce')\n",
    "df_2020['start_date'] = df_2020['Start Time'].dt.strftime('%d/%m/%Y')\n",
    "df_2020['start_time'] = df_2020['Start Time'].dt.strftime('%H:%M')"
   ]
  },
  {
   "cell_type": "code",
   "execution_count": 97,
   "id": "9caaaa65",
   "metadata": {},
   "outputs": [],
   "source": [
    "df_2020['End Time'] = pd.to_datetime(df_2020['End Time'], errors='coerce')\n",
    "df_2020['stop_date'] = df_2020['End Time'].dt.strftime('%d/%m/%Y')\n",
    "df_2020['stop_time'] = df_2020['End Time'].dt.strftime('%H:%M')"
   ]
  },
  {
   "cell_type": "code",
   "execution_count": 98,
   "id": "73f92ed1",
   "metadata": {
    "scrolled": true
   },
   "outputs": [
    {
     "data": {
      "text/html": [
       "<div>\n",
       "<style scoped>\n",
       "    .dataframe tbody tr th:only-of-type {\n",
       "        vertical-align: middle;\n",
       "    }\n",
       "\n",
       "    .dataframe tbody tr th {\n",
       "        vertical-align: top;\n",
       "    }\n",
       "\n",
       "    .dataframe thead th {\n",
       "        text-align: right;\n",
       "    }\n",
       "</style>\n",
       "<table border=\"1\" class=\"dataframe\">\n",
       "  <thead>\n",
       "    <tr style=\"text-align: right;\">\n",
       "      <th></th>\n",
       "      <th>Trip Id</th>\n",
       "      <th>Trip  Duration</th>\n",
       "      <th>Start Station Id</th>\n",
       "      <th>Start Time</th>\n",
       "      <th>Start Station Name</th>\n",
       "      <th>End Station Id</th>\n",
       "      <th>End Time</th>\n",
       "      <th>End Station Name</th>\n",
       "      <th>Bike Id</th>\n",
       "      <th>User Type</th>\n",
       "      <th>start_date</th>\n",
       "      <th>start_time</th>\n",
       "      <th>stop_date</th>\n",
       "      <th>stop_time</th>\n",
       "    </tr>\n",
       "  </thead>\n",
       "  <tbody>\n",
       "    <tr>\n",
       "      <th>0</th>\n",
       "      <td>7334128</td>\n",
       "      <td>648</td>\n",
       "      <td>7003</td>\n",
       "      <td>2020-01-01 00:08:00</td>\n",
       "      <td>Madison Ave / Bloor St W</td>\n",
       "      <td>7271.0</td>\n",
       "      <td>2020-01-01 00:19:00</td>\n",
       "      <td>Yonge St / Alexander St - SMART</td>\n",
       "      <td>3104</td>\n",
       "      <td>Annual Member</td>\n",
       "      <td>01/01/2020</td>\n",
       "      <td>00:08</td>\n",
       "      <td>01/01/2020</td>\n",
       "      <td>00:19</td>\n",
       "    </tr>\n",
       "    <tr>\n",
       "      <th>1</th>\n",
       "      <td>7334129</td>\n",
       "      <td>419</td>\n",
       "      <td>7007</td>\n",
       "      <td>2020-01-01 00:10:00</td>\n",
       "      <td>College St / Huron St</td>\n",
       "      <td>7163.0</td>\n",
       "      <td>2020-01-01 00:17:00</td>\n",
       "      <td>Yonge St / Wood St</td>\n",
       "      <td>2126</td>\n",
       "      <td>Annual Member</td>\n",
       "      <td>01/01/2020</td>\n",
       "      <td>00:10</td>\n",
       "      <td>01/01/2020</td>\n",
       "      <td>00:17</td>\n",
       "    </tr>\n",
       "    <tr>\n",
       "      <th>2</th>\n",
       "      <td>7334130</td>\n",
       "      <td>566</td>\n",
       "      <td>7113</td>\n",
       "      <td>2020-01-01 00:13:00</td>\n",
       "      <td>Parliament St / Aberdeen Ave</td>\n",
       "      <td>7108.0</td>\n",
       "      <td>2020-01-01 00:22:00</td>\n",
       "      <td>Front St E / Cherry St</td>\n",
       "      <td>4425</td>\n",
       "      <td>Annual Member</td>\n",
       "      <td>01/01/2020</td>\n",
       "      <td>00:13</td>\n",
       "      <td>01/01/2020</td>\n",
       "      <td>00:22</td>\n",
       "    </tr>\n",
       "    <tr>\n",
       "      <th>3</th>\n",
       "      <td>7334131</td>\n",
       "      <td>1274</td>\n",
       "      <td>7333</td>\n",
       "      <td>2020-01-01 00:17:00</td>\n",
       "      <td>King St E / Victoria St</td>\n",
       "      <td>7311.0</td>\n",
       "      <td>2020-01-01 00:38:00</td>\n",
       "      <td>Sherbourne St / Isabella St</td>\n",
       "      <td>4233</td>\n",
       "      <td>Annual Member</td>\n",
       "      <td>01/01/2020</td>\n",
       "      <td>00:17</td>\n",
       "      <td>01/01/2020</td>\n",
       "      <td>00:38</td>\n",
       "    </tr>\n",
       "    <tr>\n",
       "      <th>4</th>\n",
       "      <td>7334132</td>\n",
       "      <td>906</td>\n",
       "      <td>7009</td>\n",
       "      <td>2020-01-01 00:19:00</td>\n",
       "      <td>King St E / Jarvis St</td>\n",
       "      <td>7004.0</td>\n",
       "      <td>2020-01-01 00:34:00</td>\n",
       "      <td>University Ave / Elm St</td>\n",
       "      <td>2341</td>\n",
       "      <td>Casual Member</td>\n",
       "      <td>01/01/2020</td>\n",
       "      <td>00:19</td>\n",
       "      <td>01/01/2020</td>\n",
       "      <td>00:34</td>\n",
       "    </tr>\n",
       "  </tbody>\n",
       "</table>\n",
       "</div>"
      ],
      "text/plain": [
       "   Trip Id  Trip  Duration Start Station Id          Start Time  \\\n",
       "0  7334128             648             7003 2020-01-01 00:08:00   \n",
       "1  7334129             419             7007 2020-01-01 00:10:00   \n",
       "2  7334130             566             7113 2020-01-01 00:13:00   \n",
       "3  7334131            1274             7333 2020-01-01 00:17:00   \n",
       "4  7334132             906             7009 2020-01-01 00:19:00   \n",
       "\n",
       "             Start Station Name End Station Id            End Time  \\\n",
       "0      Madison Ave / Bloor St W         7271.0 2020-01-01 00:19:00   \n",
       "1         College St / Huron St         7163.0 2020-01-01 00:17:00   \n",
       "2  Parliament St / Aberdeen Ave         7108.0 2020-01-01 00:22:00   \n",
       "3       King St E / Victoria St         7311.0 2020-01-01 00:38:00   \n",
       "4         King St E / Jarvis St         7004.0 2020-01-01 00:34:00   \n",
       "\n",
       "                  End Station Name Bike Id      User Type  start_date  \\\n",
       "0  Yonge St / Alexander St - SMART    3104  Annual Member  01/01/2020   \n",
       "1               Yonge St / Wood St    2126  Annual Member  01/01/2020   \n",
       "2           Front St E / Cherry St    4425  Annual Member  01/01/2020   \n",
       "3      Sherbourne St / Isabella St    4233  Annual Member  01/01/2020   \n",
       "4          University Ave / Elm St    2341  Casual Member  01/01/2020   \n",
       "\n",
       "  start_time   stop_date stop_time  \n",
       "0      00:08  01/01/2020     00:19  \n",
       "1      00:10  01/01/2020     00:17  \n",
       "2      00:13  01/01/2020     00:22  \n",
       "3      00:17  01/01/2020     00:38  \n",
       "4      00:19  01/01/2020     00:34  "
      ]
     },
     "execution_count": 98,
     "metadata": {},
     "output_type": "execute_result"
    }
   ],
   "source": [
    "df_2020.head(5)"
   ]
  },
  {
   "cell_type": "markdown",
   "id": "fdc7db49",
   "metadata": {},
   "source": [
    "Looks good! Let's check for null values..."
   ]
  },
  {
   "cell_type": "code",
   "execution_count": 100,
   "id": "0bb1e874",
   "metadata": {},
   "outputs": [
    {
     "data": {
      "text/plain": [
       "Trip Id                  0\n",
       "Trip  Duration           0\n",
       "Start Station Id         0\n",
       "Start Time             249\n",
       "Start Station Name     793\n",
       "End Station Id        1301\n",
       "End Time               249\n",
       "End Station Name      2049\n",
       "Bike Id                 73\n",
       "User Type              249\n",
       "start_date             249\n",
       "start_time             249\n",
       "stop_date              249\n",
       "stop_time              249\n",
       "dtype: int64"
      ]
     },
     "execution_count": 100,
     "metadata": {},
     "output_type": "execute_result"
    }
   ],
   "source": [
    "df_2020.isnull().sum()"
   ]
  },
  {
   "cell_type": "markdown",
   "id": "816508ee",
   "metadata": {},
   "source": [
    "There aren't many null values, especially with respect to the total number of rows. I'll drop these rows with null values..."
   ]
  },
  {
   "cell_type": "code",
   "execution_count": 101,
   "id": "283271c4",
   "metadata": {},
   "outputs": [],
   "source": [
    "df_2020.dropna(how='any', axis=0, inplace=True)"
   ]
  },
  {
   "cell_type": "code",
   "execution_count": 102,
   "id": "fa6e3942",
   "metadata": {},
   "outputs": [
    {
     "data": {
      "text/plain": [
       "Trip Id               0\n",
       "Trip  Duration        0\n",
       "Start Station Id      0\n",
       "Start Time            0\n",
       "Start Station Name    0\n",
       "End Station Id        0\n",
       "End Time              0\n",
       "End Station Name      0\n",
       "Bike Id               0\n",
       "User Type             0\n",
       "start_date            0\n",
       "start_time            0\n",
       "stop_date             0\n",
       "stop_time             0\n",
       "dtype: int64"
      ]
     },
     "execution_count": 102,
     "metadata": {},
     "output_type": "execute_result"
    }
   ],
   "source": [
    "df_2020.isnull().sum()"
   ]
  },
  {
   "cell_type": "markdown",
   "id": "9e4d41e9",
   "metadata": {},
   "source": [
    "Great! Now i'll save to csv and we're done with data cleaning for now."
   ]
  },
  {
   "cell_type": "code",
   "execution_count": 103,
   "id": "b40a660f",
   "metadata": {},
   "outputs": [],
   "source": [
    "df_2020.to_csv('Desktop/to_bikeshare_project/df_2020.csv')"
   ]
  }
 ],
 "metadata": {
  "kernelspec": {
   "display_name": "Python 3",
   "language": "python",
   "name": "python3"
  },
  "language_info": {
   "codemirror_mode": {
    "name": "ipython",
    "version": 3
   },
   "file_extension": ".py",
   "mimetype": "text/x-python",
   "name": "python",
   "nbconvert_exporter": "python",
   "pygments_lexer": "ipython3",
   "version": "3.8.5"
  },
  "toc": {
   "base_numbering": 1,
   "nav_menu": {},
   "number_sections": false,
   "sideBar": true,
   "skip_h1_title": false,
   "title_cell": "Table of Contents",
   "title_sidebar": "Contents",
   "toc_cell": false,
   "toc_position": {},
   "toc_section_display": true,
   "toc_window_display": false
  }
 },
 "nbformat": 4,
 "nbformat_minor": 5
}
